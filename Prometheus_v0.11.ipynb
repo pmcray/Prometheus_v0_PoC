
{
 "cells": [
  {
   "cell_type": "markdown",
   "metadata": {},
   "source": [
    "# Project Prometheus v0.11: The Visual Mind"
   ]
  },
  {
   "cell_type": "markdown",
   "metadata": {},
   "source": [
    "This notebook contains the full, executable implementation of the Project Prometheus v0.11 Proof of Concept. It is designed to be run in a Google Colab environment with a GPU runtime."
   ]
  },
  {
   "cell_type": "markdown",
   "metadata": {},
   "source": [
    "## 1. Setup"
   ]
  },
  {
   "cell_type": "code",
   "execution_count": null,
   "metadata": {},
   "outputs": [],
   "source": [
    "!pip install google-generativeai pydantic pypdf pyvis causallearn"
   ]
  },
  {
   "cell_type": "markdown",
   "metadata": {},
   "source": [
    "## 2. Imports and API Key"
   ]
  },
  {
   "cell_type": "code",
   "execution_count": null,
   "metadata": {},
   "outputs": [],
   "source": [
    "import os\n",
    "import logging\n",
    "from prometheus import *\n",
    "\n",
    "# --- API Key Setup ---\n",
    "API_KEY = \"YOUR_API_KEY\" # <--- IMPORTANT: PASTE YOUR API KEY HERE\n",
    "os.environ[\"GOOGLE_API_KEY\"] = API_KEY\n",
    "\n",
    "# --- Logging Setup ---\n",
    "logging.basicConfig(level=logging.INFO, format='%(asctime)s - %(levelname)s - %(message)s')"
   ]
  },
  {
   "cell_type": "markdown",
   "metadata": {},
   "source": [
    "## 3. Verification Tests"
   ]
  },
  {
   "cell_type": "markdown",
   "metadata": {},
   "source": [
    "### 3.1 Test: ToyChemistrySim"
   ]
  },
  {
   "cell_type": "code",
   "execution_count": null,
   "metadata": {},
   "outputs": [],
   "source": [
    "sim = ToyChemistrySim()\n",
    "sim.mix('A', 'B')\n",
    "sim.heat(50)\n",
    "assert sim.get_state()['C'] == 150.0\n",
    "logging.info('✅ ToyChemistrySim test passed!')"
   ]
  },
  {
   "cell_type": "markdown",
   "metadata": {},
   "source": [
    "### 3.2 Test: AuditorAgent"
   ]
  },
  {
   "cell_type": "code",
   "execution_count": null,
   "metadata": {},
   "outputs": [],
   "source": [
    "root_state = ProofState(\"1 goal\\n⊢ a + b + c = a + (b + c)\")\n",
    "tree = ProofTree(root_state)\n",
    "node1 = tree.add_node(ProofState(\"2 goals...\"), \"induction a\", tree.root)\n",
    "node2 = tree.add_node(ProofState(\"1 goal...\"), \"simp\", node1)\n",
    "node3 = tree.add_node(ProofState(\"goals accomplished\"), \"rw [Nat.add_assoc]\", node2)\n",
    "auditor = AuditorAgent(api_key=API_KEY)\n",
    "theorem = \"theorem add_assoc (a b c : Nat) : a + b + c = a + (b + c)\"\n",
    "audit_trail = auditor.generate_audit_trail(tree, theorem)\n",
    "logging.info(audit_trail)\n",
    "assert 'Audit Trail' in audit_trail"
   ]
  },
  {
   "cell_type": "markdown",
   "metadata": {},
   "source": [
    "## 4. Demonstration: The Dynamic Mesh in Action"
   ]
  },
  {
   "cell_type": "code",
   "execution_count": null,
   "metadata": {},
   "outputs": [],
   "source": [
    "from prometheus.brain_map import BrainMap\n",
    "from prometheus.planner import PlannerAgent\n",
    "from prometheus.mcs import MCSSupervisor\n",
    "from IPython.display import display, HTML\n",
    "\n",
    "brain_map = BrainMap()\n",
    "planner = PlannerAgent()\n",
    "supervisor = MCSSupervisor(planner, None, None, None, brain_map)\n",
    "\n",
    "goal = \"Analyze this scientific paper and then try to replicate its findings in the ToyChemistrySim\"\n",
    "supervisor.run_dynamic_circuit_visualization(goal)\n",
    "\n",
    "display(HTML('brain_map.html'))"
   ]
  }
 ],
 "metadata": {
  "kernelspec": {
   "display_name": "Python 3",
   "language": "python",
   "name": "python3"
  },
  "language_info": {
   "codemirror_mode": {
    "name": "ipython",
    "version": 3
   },
   "file_extension": ".py",
   "mimetype": "text/x-python",
   "name": "python",
   "nbconvert_exporter": "python",
   "pygments_lexer": "ipython3",
   "version": "3.10.6"
  }
 },
 "nbformat": 4,
 "nbformat_minor": 4
}
