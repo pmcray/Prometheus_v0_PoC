{
 "cells": [
  {
   "cell_type": "markdown",
   "metadata": {},
   "source": [
    "# Project Prometheus v0.12: The Introspective Agent"
   ]
  },
  {
   "cell_type": "markdown",
   "metadata": {},
   "source": [
    "This notebook contains the full, executable implementation of the Project Prometheus v0.12 Proof of Concept. It is designed to be run in a Google Colab environment with a GPU runtime."
   ]
  },
  {
   "cell_type": "markdown",
   "metadata": {},
   "source": [
    "## 1. Setup"
   ]
  },
  {
   "cell_type": "code",
   "execution_count": null,
   "metadata": {},
   "outputs": [],
   "source": [
    "!pip install google-generativeai pydantic pypdf pyvis causallearn"
   ]
  },
  {
   "cell_type": "markdown",
   "metadata": {},
   "source": [
    "## 2. Imports and API Key"
   ]
  },
  {
   "cell_type": "code",
   "execution_count": null,
   "metadata": {},
   "outputs": [],
   "source": [
    "import os\n",
    "import logging\n",
    "import json\n",
    "from prometheus import *\n",
    "\n",
    "# --- API Key Setup ---\n",
    "API_KEY = \"YOUR_API_KEY\" # <--- IMPORTANT: PASTE YOUR API KEY HERE\n",
    "os.environ[\"GOOGLE_API_KEY\"] = API_KEY\n",
    "\n",
    "# --- Logging Setup ---\n",
    "logging.basicConfig(level=logging.INFO, format='%(asctime)s - %(levelname)s - %(message)s')"
   ]
  },
  {
   "cell_type": "markdown",
   "metadata": {},
   "source": [
    "## 3. Verification Tests"
   ]
  },
  {
   "cell_type": "markdown",
   "metadata": {},
   "source": [
    "### 3.1 Test: Introspection and Self-Critique"
   ]
  },
  {
   "cell_type": "code",
   "execution_count": null,
   "metadata": {},
   "outputs": [],
   "source": [
    "logger = PerformanceLogger()\n",
    "logger.log_proof_search(\n",
    "    theorem_name=\"add_assoc\", \n",
    "    success=True, \n",
    "    steps=5, \n",
    "    tactics=[\"induction a\", \"simp\", \"rw [Nat.add_assoc]\", \"simp\", \"simp\"]\n",
    ")\n",
    "\n",
    "planner = PlannerAgent()\n",
    "critique = planner.generate_self_critique(logger.log)\n",
    "assert 'more efficient' in critique.lower() or 'inefficient' in critique.lower() or 'redundant' in critique.lower()"
   ]
  },
  {
   "cell_type": "markdown",
   "metadata": {},
   "source": [
    "### 3.2 Test: Self-Modification Planning"
   ]
  },
  {
   "cell_type": "code",
   "execution_count": null,
   "metadata": {},
   "outputs": [],
   "source": [
    "critique = 'The proof took too many steps and used redundant tactics.'\n",
    "planner = PlannerAgent()\n",
    "plan = planner.generate_self_modification_plan(critique)\n",
    "assert 'refactor' in plan.lower() and 'coderagent' in plan.lower()"
   ]
  },
  {
   "cell_type": "markdown",
   "metadata": {},
   "source": [
    "## 4. Demonstration: The Closed RSI Loop"
   ]
  },
  {
   "cell_type": "code",
   "execution_count": null,
   "metadata": {},
   "outputs": [],
   "source": [
    "lean_tool = LeanTool()\n",
    "strategy_archive = StrategyArchive()\n",
    "performance_logger = PerformanceLogger()\n",
    "planner = PlannerAgent()\n",
    "coder = CoderAgent(api_key=API_KEY, compiler=None, analyzer=None, lean_tool=lean_tool, knowledge_agent=None)\n",
    "supervisor = MCSSupervisor(planner, coder, None, None, lean_tool, strategy_archive, performance_logger, None)\n",
    "\n",
    "theorem = \"theorem add_assoc (a b c : Nat) : a + b + c = a + (b + c)\"\n",
    "supervisor.run_rsi_cycle(theorem)"
   ]
  }
 ],
 "metadata": {
  "kernelspec": {
   "display_name": "Python 3",
   "language": "python",
   "name": "python3"
  },
  "language_info": {
   "codemirror_mode": {
    "name": "ipython",
    "version": 3
   },
   "file_extension": ".py",
   "mimetype": "text/x-python",
   "name": "python",
   "nbconvert_exporter": "python",
   "pygments_lexer": "ipython3",
   "version": "3.10.6"
  }
 },
 "nbformat": 4,
 "nbformat_minor": 4
}