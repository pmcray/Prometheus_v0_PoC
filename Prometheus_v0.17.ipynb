
{
 "cells": [
  {
   "cell_type": "markdown",
   "metadata": {},
   "source": [
    "# Project Prometheus v0.17: The Economist"
   ]
  },
  {
   "cell_type": "markdown",
   "metadata": {},
   "source": [
    "This notebook contains the full, executable implementation of the Project Prometheus v0.17 Proof of Concept. It is designed to be run in a Google Colab environment with a GPU runtime."
   ]
  },
  {
   "cell_type": "markdown",
   "metadata": {},
   "source": [
    "## 1. Setup"
   ]
  },
  {
   "cell_type": "code",
   "execution_count": null,
   "metadata": {},
   "outputs": [],
   "source": [
    "!pip install google-generativeai pydantic pypdf pyvis causallearn"
   ]
  },
  {
   "cell_type": "markdown",
   "metadata": {},
   "source": [
    "## 2. Imports and API Key"
   ]
  },
  {
   "cell_type": "code",
   "execution_count": null,
   "metadata": {},
   "outputs": [],
   "source": [
    "import os\n",
    "import logging\n",
    "import json\n",
    "import time\n",
    "from prometheus import *\n",
    "\n",
    "# --- API Key Setup ---\n",
    "API_KEY = \"YOUR_API_KEY\" # <--- IMPORTANT: PASTE YOUR API KEY HERE\n",
    "os.environ[\"GOOGLE_API_KEY\"] = API_KEY\n",
    "\n",
    "# --- Logging Setup ---\n",
    "logging.basicConfig(level=logging.INFO, format='%(asctime)s - %(levelname)s - %(message)s')"
   ]
  },
  {
   "cell_type": "markdown",
   "metadata": {},
   "source": [
    "## 3. Verification Tests"
   ]
  },
  {
   "cell_type": "markdown",
   "metadata": {},
   "source": [
    "### 3.1 Test: Resource Management"
   ]
  },
  {
   "cell_type": "code",
   "execution_count": null,
   "metadata": {},
   "outputs": [],
   "source": [
    "from prometheus.resource_manager import ResourceManager\n",
    "\n",
    "resource_manager = ResourceManager(initial_budget=100)\n",
    "planner = PlannerAgent()\n",
    "logger = PerformanceLogger()\n",
    "\n",
    "plan = \"Execute a simple task.\"\n",
    "cost = planner.estimate_cost(plan)\n",
    "\n",
    "if resource_manager.deduct_cost(\"PlannerAgent\", cost):\n",
    "    logger.log_action(\"PlannerAgent\", plan, cost, success=True)\n",
    "\n",
    "assert resource_manager.budget < 100\n",
    "assert len(logger.log['actions']) == 1"
   ]
  },
  {
   "cell_type": "markdown",
   "metadata": {},
   "source": [
    "### 3.2 Test: Bidding and Auctions"
   ]
  },
  {
   "cell_type": "code",
   "execution_count": null,
   "metadata": {},
   "outputs": [],
   "source": [
    "resource_manager = ResourceManager()\n",
    "resource_manager.reward_agent(\"ReliableCompilerTool\", 10) # Give the reliable tool a high reputation\n",
    "\n",
    "planner = PlannerAgent()\n",
    "bids = planner.generate_bid(\"Compile the code.\")\n",
    "\n",
    "supervisor = MCSSupervisor(planner, resource_manager)\n",
    "winning_bid = supervisor.run_auction(bids)\n",
    "\n",
    "assert winning_bid['agent'] == 'ReliableCompilerTool'"
   ]
  },
  {
   "cell_type": "markdown",
   "metadata": {},
   "source": [
    "## 4. Demonstration: The Efficient Allocator"
   ]
  },
  {
   "cell_type": "code",
   "execution_count": null,
   "metadata": {},
   "outputs": [],
   "source": [
    "from prometheus.resource_manager import ResourceManager\n",
    "from prometheus.planner import PlannerAgent\n",
    "from prometheus.mcs import MCSSupervisor\n",
    "\n",
    "resource_manager = ResourceManager(initial_budget=500)\n",
    "planner = PlannerAgent()\n",
    "supervisor = MCSSupervisor(planner, resource_manager)\n",
    "\n",
    "goal = \"Compile a critical piece of code.\"\n",
    "supervisor.run_budgeted_cycle(goal)"
   ]
  }
 ],
 "metadata": {
  "kernelspec": {
   "display_name": "Python 3",
   "language": "python",
   "name": "python3"
  },
  "language_info": {
   "codemirror_mode": {
    "name": "ipython",
    "version": 3
   },
   "file_extension": ".py",
   "mimetype": "text/x-python",
   "name": "python",
   "nbconvert_exporter": "python",
   "pygments_lexer": "ipython3",
   "version": "3.10.6"
  }
 },
 "nbformat": 4,
 "nbformat_minor": 4
}
