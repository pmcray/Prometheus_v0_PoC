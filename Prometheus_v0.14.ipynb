{
 "cells": [
  {
   "cell_type": "markdown",
   "metadata": {},
   "source": [
    "# Project Prometheus v0.14: The Strategic Learner"
   ]
  },
  {
   "cell_type": "markdown",
   "metadata": {},
   "source": [
    "This notebook contains the full, executable implementation of the Project Prometheus v0.14 Proof of Concept. It is designed to be run in a Google Colab environment with a GPU runtime."
   ]
  },
  {
   "cell_type": "markdown",
   "metadata": {},
   "source": [
    "## 1. Setup"
   ]
  },
  {
   "cell_type": "code",
   "execution_count": null,
   "metadata": {},
   "outputs": [],
       "source": [
    "!pip install google-generativeai pydantic pypdf pyvis causallearn\n",
    "import nltk\n",
    "nltk.download('stopwords')"
   ]
  },
  {
   "cell_type": "markdown",
   "metadata": {},
   "source": [
    "## 2. Imports and API Key"
   ]
  },
  {
   "cell_type": "code",
   "execution_count": null,
   "metadata": {},
   "outputs": [],
   "source": [
    "import os\n",
    "import logging\n",
    "import json\n",
    "from prometheus import *\n",
    "\n",
    "# --- API Key Setup ---\n",
    "API_KEY = \"YOUR_API_KEY\" # <--- IMPORTANT: PASTE YOUR API KEY HERE\n",
    "os.environ[\"GOOGLE_API_KEY\"] = API_KEY\n",
    "\n",
    "# --- Logging Setup ---\n",
    "logging.basicConfig(level=logging.INFO, format='%(asctime)s - %(levelname)s - %(message)s')"
   ]
  },
  {
   "cell_type": "markdown",
   "metadata": {},
   "source": [
    "## 3. Verification Tests"
   ]
  },
  {
   "cell_type": "markdown",
   "metadata": {},
   "source": [
    "### 3.1 Test: Strategic Reflection and Meta-Critique"
   ]
  },
  {
   "cell_type": "code",
   "execution_count": null,
   "metadata": {},
   "outputs": [],
   "source": [
    "logger = PerformanceLogger()\n",
    "for i in range(3):\n",
    "    logger.log_critique(f\"Critique {i}: The proof search was inefficient.\")\n",
    "\n",
    "planner = PlannerAgent()\n",
    "meta_critique = planner.generate_meta_critique(logger.get_critique_history())\n",
    "assert 'strategic' in meta_critique.lower() or 'high-level' in meta_critique.lower() or 'diversification' in meta_critique.lower() or 'root cause' in meta_critique.lower() or 'diversity' in meta_critique.lower()"
   ]
  },
  {
   "cell_type": "markdown",
   "metadata": {},
   "source": [
    "### 3.2 Test: Meta-Planning and Capability Acquisition"
   ]
  },
  {
   "cell_type": "code",
   "execution_count": null,
   "metadata": {},
   "outputs": [],
   "source": [
    "meta_critique = 'My self-improvement strategy is too focused on local, code-level optimization, and is failing to address the root cause of my failures, which is a lack of conceptual knowledge.'\n",
    "planner = PlannerAgent()\n",
    "proposal = planner.generate_research_proposal(meta_critique)\n",
    "assert 'synthesize' in proposal.lower() or 'agent' in proposal.lower() or 'capability' in proposal.lower()"
   ]
  },
  {
   "cell_type": "markdown",
   "metadata": {},
   "source": [
    "## 4. Demonstration: The Self-Taught Scholar"
   ]
  },
  {
   "cell_type": "code",
   "execution_count": null,
   "metadata": {},
   "outputs": [],
   "source": [
    "from prometheus.brain_map import BrainMap\n",
    "from prometheus.planner import PlannerAgent\n",
    "from prometheus.coder import CoderAgent\n",
    "from prometheus.mcs import MCSSupervisor\n",
    "from IPython.display import display, HTML\n",
    "\n",
    "brain_map = BrainMap()\n",
    "planner = PlannerAgent()\n",
    "coder = CoderAgent(api_key=API_KEY)\n",
    "supervisor = MCSSupervisor(planner, coder, None, None, brain_map)\n",
    "\n",
    "goal = \"Prove a difficult theorem about right-angled triangles.\"\n",
    "curriculum_path = 'docs/pythagorean_theorem.pdf'\n",
    "supervisor.run_meta_learning_cycle(goal, curriculum_path)\n",
    "\n",
    "display(HTML('brain_map.html'))"
   ]
  }
 ],
 "metadata": {
  "kernelspec": {
   "display_name": "Python 3",
   "language": "python",
   "name": "python3"
  },
  "language_info": {
   "codemirror_mode": {
    "name": "ipython",
    "version": 3
   },
   "file_extension": ".py",
   "mimetype": "text/x-python",
   "name": "python",
   "nbconvert_exporter": "python",
   "pygments_lexer": "ipython3",
   "version": "3.10.6"
  }
 },
 "nbformat": 4,
 "nbformat_minor": 4
}