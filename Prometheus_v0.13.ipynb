
{
 "cells": [
  {
   "cell_type": "markdown",
   "metadata": {},
   "source": [
    "# Project Prometheus v0.13: The Architect"
   ]
  },
  {
   "cell_type": "markdown",
   "metadata": {},
   "source": [
    "This notebook contains the full, executable implementation of the Project Prometheus v0.13 Proof of Concept. It is designed to be run in a Google Colab environment with a GPU runtime."
   ]
  },
  {
   "cell_type": "markdown",
   "metadata": {},
   "source": [
    "## 1. Setup"
   ]
  },
  {
   "cell_type": "code",
   "execution_count": null,
   "metadata": {},
   "outputs": [],
   "source": [
    "!pip install google-generativeai pydantic pypdf pyvis causallearn"
   ]
  },
  {
   "cell_type": "markdown",
   "metadata": {},
   "source": [
    "## 2. Imports and API Key"
   ]
  },
  {
   "cell_type": "code",
   "execution_count": null,
   "metadata": {},
   "outputs": [],
   "source": [
    "import os\n",
    "import logging\n",
    "import json\n",
    "from prometheus import *\n",
    "\n",
    "# --- API Key Setup ---\n",
    "API_KEY = \"YOUR_API_KEY\" # <--- IMPORTANT: PASTE YOUR API KEY HERE\n",
    "os.environ[\"GOOGLE_API_KEY\"] = API_KEY\n",
    "\n",
    "# --- Logging Setup ---\n",
    "logging.basicConfig(level=logging.INFO, format='%(asctime)s - %(levelname)s - %(message)s')"
   ]
  },
  {
   "cell_type": "markdown",
   "metadata": {},
   "source": [
    "## 3. Verification Tests"
   ]
  },
  {
   "cell_type": "markdown",
   "metadata": {},
   "source": [
    "### 3.1 Test: Architectural Introspection"
   ]
  },
  {
   "cell_type": "code",
   "execution_count": null,
   "metadata": {},
   "outputs": [],
   "source": [
    "logger = PerformanceLogger()\n",
    "for i in range(5):\n",
    "    logger.log_proof_search(f\"complex_theorem_{i}\", False, 10, [])\n",
    "\n",
    "architecture = ArchitectureState().get_architecture()\n",
    "planner = PlannerAgent()\n",
    "critique = planner.generate_architectural_critique(logger.log, architecture)\n",
    "assert 'lemma' in critique.lower() or 'bottleneck' in critique.lower() or 'circular' in critique.lower() or 'cyclical' in critique.lower()"
   ]
  },
  {
   "cell_type": "markdown",
   "metadata": {},
   "source": [
    "### 3.2 Test: Agent Synthesis"
   ]
  },
  {
   "cell_type": "code",
   "execution_count": null,
   "metadata": {},
   "outputs": [],
   "source": [
    "critique = 'The current architecture lacks a dedicated mechanism for lemma discovery, leading to inefficient proof searches.'\n",
    "planner = PlannerAgent()\n",
    "proposal = planner.propose_new_agent(critique)\n",
    "coder = CoderAgent(api_key=API_KEY)\n",
    "new_agent_path = coder.synthesize_agent(proposal)\n",
    "assert os.path.exists(new_agent_path)"
   ]
  },
  {
   "cell_type": "markdown",
   "metadata": {},
   "source": [
    "## 4. Demonstration: The Architect in Action"
   ]
  },
  {
   "cell_type": "code",
   "execution_count": null,
   "metadata": {},
   "outputs": [],
   "source": [
    "from prometheus.brain_map import BrainMap\n",
    "from prometheus.planner import PlannerAgent\n",
    "from prometheus.coder import CoderAgent\n",
    "from prometheus.mcs import MCSSupervisor\n",
    "from IPython.display import display, HTML\n",
    "\n",
    "brain_map = BrainMap()\n",
    "planner = PlannerAgent()\n",
    "coder = CoderAgent(api_key=API_KEY)\n",
    "supervisor = MCSSupervisor(planner, coder, None, None, brain_map)\n",
    "\n",
    "goal = \"Prove a difficult theorem that requires a new lemma.\"\n",
    "supervisor.run_architectural_rsi_cycle(goal)\n",
    "\n",
    "display(HTML('brain_map.html'))"
   ]
  }
 ],
 "metadata": {
  "kernelspec": {
   "display_name": "Python 3",
   "language": "python",
   "name": "python3"
  },
  "language_info": {
   "codemirror_mode": {
    "name": "ipython",
    "version": 3
   },
   "file_extension": ".py",
   "mimetype": "text/x-python",
   "name": "python",
   "nbconvert_exporter": "python",
   "pygments_lexer": "ipython3",
   "version": "3.10.6"
  }
 },
 "nbformat": 4,
 "nbformat_minor": 4
}
