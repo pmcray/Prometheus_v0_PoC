{
 "cells": [
  {
   "cell_type": "markdown",
   "metadata": {},
   "source": [
    "# Project Prometheus v0.16: The Parallel Mind"
   ]
  },
  {
   "cell_type": "markdown",
   "metadata": {},
   "source": [
    "This notebook contains the full, executable implementation of the Project Prometheus v0.16 Proof of Concept. It is designed to be run in a Google Colab environment with a GPU runtime."
   ]
  },
  {
   "cell_type": "markdown",
   "metadata": {},
   "source": [
    "## 1. Setup"
   ]
  },
  {
   "cell_type": "code",
   "execution_count": null,
   "metadata": {},
   "outputs": [],
   "source": [
    "!pip install google-generativeai pydantic pypdf pyvis causallearn"
   ]
  },
  {
   "cell_type": "markdown",
   "metadata": {},
   "source": [
    "## 2. Imports and API Key"
   ]
  },
  {
   "cell_type": "code",
   "execution_count": null,
   "metadata": {},
   "outputs": [],
   "source": [
    "import os\n",
    "import logging\n",
    "import json\n",
    "import time\n",
    "from prometheus import *\n",
    "\n",
    "# --- API Key Setup ---\n",
    "API_KEY = \"YOUR_API_KEY\" # <--- IMPORTANT: PASTE YOUR API KEY HERE\n",
    "os.environ[\"GOOGLE_API_KEY\"] = API_KEY\n",
    "\n",
    "# --- Logging Setup ---\n",
    "logging.basicConfig(level=logging.INFO, format='%(asctime)s - %(levelname)s - %(message)s')"
   ]
  },
  {
   "cell_type": "markdown",
   "metadata": {},
   "source": [
    "## 3. Verification Tests"
   ]
  },
  {
   "cell_type": "markdown",
   "metadata": {},
   "source": [
    "### 3.1 Test: Parallel Experimentation"
   ]
  },
  {
   "cell_type": "code",
   "execution_count": null,
   "metadata": {},
   "outputs": [],
   "source": [
    "from prometheus.experiment_orchestrator import ExperimentOrchestrator\n",
    "\n",
    "planner = PlannerAgent()\n",
    "hypotheses = planner.generate_hypotheses(\"Synthesize molecule D\")\n",
    "\n",
    "orchestrator = ExperimentOrchestrator()\n",
    "start_time = time.time()\n",
    "results = orchestrator.run_parallel_experiments(hypotheses)\n",
    "end_time = time.time()\n",
    "\n",
    "logging.info(f\"Total time for parallel execution: {end_time - start_time:.2f}s\")\n",
    "assert len(results) == len(hypotheses)"
   ]
  },
  {
   "cell_type": "markdown",
   "metadata": {},
   "source": [
    "### 3.2 Test: Causal Inference"
   ]
  },
  {
   "cell_type": "code",
   "execution_count": null,
   "metadata": {},
   "outputs": [],
   "source": [
    "from prometheus.results_synthesizer import ResultsSynthesizer\n",
    "from prometheus.tools import CausalGraphTool\n",
    "\n",
    "# Simulate a new rule for the ToyChemistrySim where mixing A and C produces D\n",
    "def new_mix(self, c1, c2):\n",
    "    if {c1, c2} == {'A', 'C'}:\n",
    "        self.state['D'] = 100\n",
    "    else:\n",
    "        self.state['D'] = 0\n",
    "    return self.state\n",
    "ToyChemistrySim.mix = new_mix\n",
    "\n",
    "results = orchestrator.run_parallel_experiments(hypotheses)\n",
    "causal_tool = CausalGraphTool()\n",
    "synthesizer = ResultsSynthesizer(causal_tool)\n",
    "causal_graph = synthesizer.analyze_results(results)\n",
    "\n",
    "knowledge_agent = KnowledgeAgent(api_key=API_KEY, performance_logger=None, pdf_tool=None)\n",
    "knowledge_agent.update_causal_rules(causal_graph)\n",
    "assert 'mix_A_C' in knowledge_agent.get_causal_rules()[0]"
   ]
  },
  {
   "cell_type": "markdown",
   "metadata": {},
   "source": [
    "## 4. Demonstration: The Automated Scientist"
   ]
  },
  {
   "cell_type": "code",
   "execution_count": null,
   "metadata": {},
   "outputs": [],
   "source": [
    "from prometheus.brain_map import BrainMap\n",
    "from prometheus.planner import PlannerAgent\n",
    "from prometheus.knowledge_agent import KnowledgeAgent\n",
    "from prometheus.mcs import MCSSupervisor\n",
    "from IPython.display import display, HTML\n",
    "\n",
    "brain_map = BrainMap()\n",
    "planner = PlannerAgent()\n",
    "knowledge_agent = KnowledgeAgent(api_key=API_KEY, performance_logger=None, pdf_tool=None)\n",
    "supervisor = MCSSupervisor(planner, None, knowledge_agent, brain_map)\n",
    "\n",
    "goal = \"Discover the reaction pathway to synthesize molecule D.\"\n",
    "supervisor.run_discovery_cycle(goal)\n",
    "\n",
    "display(HTML('brain_map.html'))"
   ]
  }
 ],
 "metadata": {
  "kernelspec": {
   "display_name": "Python 3",
   "language": "python",
   "name": "python3"
  },
  "language_info": {
   "codemirror_mode": {
    "name": "ipython",
    "version": 3
   },
   "file_extension": ".py",
   "mimetype": "text/x-python",
   "name": "python",
   "nbconvert_exporter": "python",
   "pygments_lexer": "ipython3",
   "version": "3.10.6"
  }
 },
 "nbformat": 4,
 "nbformat_minor": 4
}