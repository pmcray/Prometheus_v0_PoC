
{
 "cells": [
  {
   "cell_type": "markdown",
   "metadata": {},
   "source": [
    "# Project Prometheus v0.15: The Toolmaker"
   ]
  },
  {
   "cell_type": "markdown",
   "metadata": {},
   "source": [
    "This notebook contains the full, executable implementation of the Project Prometheus v0.15 Proof of Concept. It is designed to be run in a Google Colab environment with a GPU runtime."
   ]
  },
  {
   "cell_type": "markdown",
   "metadata": {},
   "source": [
    "## 1. Setup"
   ]
  },
  {
   "cell_type": "code",
   "execution_count": null,
   "metadata": {},
   "outputs": [],
   "source": [
    "!pip install google-generativeai pydantic pypdf pyvis causallearn"
   ]
  },
  {
   "cell_type": "markdown",
   "metadata": {},
   "source": [
    "## 2. Imports and API Key"
   ]
  },
  {
   "cell_type": "code",
   "execution_count": null,
   "metadata": {},
   "outputs": [],
   "source": [
    "import os\n",
    "import logging\n",
    "import json\n",
    "import time\n",
    "from prometheus import *\n",
    "\n",
    "# --- API Key Setup ---\n",
    "API_KEY = \"YOUR_API_KEY\" # <--- IMPORTANT: PASTE YOUR API KEY HERE\n",
    "os.environ[\"GOOGLE_API_KEY\"] = API_KEY\n",
    "\n",
    "# --- Logging Setup ---\n",
    "logging.basicConfig(level=logging.INFO, format='%(asctime)s - %(levelname)s - %(message)s')"
   ]
  },
  {
   "cell_type": "markdown",
   "metadata": {},
   "source": [
    "## 3. Verification Tests"
   ]
  },
  {
   "cell_type": "markdown",
   "metadata": {},
   "source": [
    "### 3.1 Test: Tool Introspection"
   ]
  },
  {\n   "cell_type": "code",
   "execution_count": null,
   "metadata": {},
   "outputs": [],
   "source": [
    "from prometheus.tool_benchmark import run_tool_benchmark\n",
    "\n",
    "logger = PerformanceLogger()\n",
    "sim = ToyChemistrySim()\n",
    "\n",
    "start_time = time.time()\n",
    "run_tool_benchmark(sim)\n",
    "end_time = time.time()\n",
    "\n",
    "logger.log_tool_usage(\"ToyChemistrySim\", end_time - start_time, 500)\n",
    "\n",
    "planner = PlannerAgent()\n",
    "critique = planner.generate_tool_critique(logger.log)\n",
    "assert 'bottleneck' in critique.lower() or 'inefficient' in critique.lower() or 'inefficiency' in critique.lower()"
   ]
  },
  {
   "cell_type": "markdown",
   "metadata": {},
   "source": [
    "### 3.2 Test: Tool Synthesis"
   ]
  },
  {
   "cell_type": "code",
   "execution_count": null,
   "metadata": {},
   "outputs": [],
   "source": [
    "critique = 'The ToyChemistrySim is a bottleneck; the benchmark required 500 sequential calls, which is computationally expensive.'\n",
    "planner = PlannerAgent()\n",
    "specification = planner.generate_tool_specification(critique)\n",
    "coder = CoderAgent(api_key=API_KEY)\n",
    "new_tool_path = coder.synthesize_tool(specification)\n",
    "assert os.path.exists(new_tool_path)"
   ]
  },
  {
   "cell_type": "markdown",
   "metadata": {},
   "source": [
    "## 4. Demonstration: The Self-Equipped Scientist"
   ]
  },
  {
   "cell_type": "code",
   "execution_count": null,
   "metadata": {},
   "outputs": [],
   "source": [
    "from prometheus.brain_map import BrainMap\n",
    "from prometheus.planner import PlannerAgent\n",
    "from prometheus.coder import CoderAgent\n",
    "from prometheus.mcs import MCSSupervisor\n",
    "from prometheus.performance_logger import PerformanceLogger\n",
    "from IPython.display import display, HTML\n",
    "\n",
    "brain_map = BrainMap()\n",
    "planner = PlannerAgent()\n",
    "coder = CoderAgent(api_key=API_KEY)\n",
    "logger = PerformanceLogger()\n",
    "supervisor = MCSSupervisor(planner, coder, None, None, brain_map, logger)\n",
    "\n",
    "goal = \"Efficiently run a large-scale chemical simulation.\"\n",
    "supervisor.run_tool_rsi_cycle(goal)\n",
    "\n",
    "display(HTML('brain_map.html'))"
   ]
  }
 ],
 "metadata": {
  "kernelspec": {
   "display_name": "Python 3",
   "language": "python",
   "name": "python3"
  },
  "language_info": {
   "codemirror_mode": {
    "name": "ipython",
    "version": 3
   },
   "file_extension": ".py",
   "mimetype": "text/x-python",
   "name": "python",
   "nbconvert_exporter": "python",
   "pygments_lexer": "ipython3",
   "version": "3.10.6"
  }
 },
 "nbformat": 4,
 "nbformat_minor": 4
}
